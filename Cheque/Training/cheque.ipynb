{
 "cells": [
  {
   "cell_type": "markdown",
   "metadata": {},
   "source": [
    "CHEQUE VERIFICATION"
   ]
  },
  {
   "cell_type": "markdown",
   "metadata": {},
   "source": [
    "STEP 1 : Importing all the necessary Librarires for building the Model"
   ]
  },
  {
   "cell_type": "code",
   "execution_count": 1,
   "metadata": {},
   "outputs": [],
   "source": [
    "import os\n",
    "import shutil\n",
    "import random\n",
    "import pickle\n",
    "import numpy as np\n",
    "from PIL import Image\n",
    "from sklearn.model_selection import train_test_split\n",
    "from keras.applications.vgg16 import VGG16\n",
    "from keras.models import Sequential\n",
    "from keras.layers import Dense, Flatten\n",
    "from keras.optimizers import Adam\n",
    "from sklearn.metrics import confusion_matrix, classification_report"
   ]
  },
  {
   "cell_type": "markdown",
   "metadata": {},
   "source": [
    "STEP 2 : Gather a labeled dataset consisting of real and fake Aadhaar card images"
   ]
  },
  {
   "cell_type": "code",
   "execution_count": 2,
   "metadata": {},
   "outputs": [],
   "source": [
    "dataset_path = r\"C:\\Users\\admin\\OneDrive\\Desktop\\Document_verification\\Cheque\\Dataset\"\n",
    "real_images_folder = os.path.join(dataset_path, \"Real\")\n",
    "fake_images_folder = os.path.join(dataset_path, \"Fake\")\n"
   ]
  },
  {
   "cell_type": "markdown",
   "metadata": {},
   "source": [
    "STEP 3 : Data Preprocessing: Convert the images to a consistent format and resize them"
   ]
  },
  {
   "cell_type": "code",
   "execution_count": 3,
   "metadata": {},
   "outputs": [],
   "source": [
    "target_size = (224, 224)  # Specify the desired target size for the images\n",
    "\n",
    "def load_and_preprocess_image(image_path, target_size):\n",
    "    image = Image.open(image_path).convert('RGB')\n",
    "    image = image.resize(target_size)\n",
    "    image = np.array(image) / 255.0  # Normalize pixel values to the range of [0, 1]\n",
    "    return image"
   ]
  },
  {
   "cell_type": "markdown",
   "metadata": {},
   "source": [
    "STEP 4 : Splitting the Dataset: Split the dataset into training and validation sets"
   ]
  },
  {
   "cell_type": "code",
   "execution_count": 4,
   "metadata": {},
   "outputs": [],
   "source": [
    "train_real_images, val_real_images = train_test_split(os.listdir(real_images_folder), test_size=0.2, random_state=42)\n",
    "train_fake_images, val_fake_images = train_test_split(os.listdir(fake_images_folder), test_size=0.2, random_state=42)"
   ]
  },
  {
   "cell_type": "markdown",
   "metadata": {},
   "source": [
    "STEP 5 : Feature Extraction"
   ]
  },
  {
   "cell_type": "code",
   "execution_count": 5,
   "metadata": {},
   "outputs": [
    {
     "name": "stdout",
     "output_type": "stream",
     "text": [
      "1/1 [==============================] - 1s 1s/step\n",
      "1/1 [==============================] - 0s 492ms/step\n",
      "1/1 [==============================] - 0s 479ms/step\n",
      "1/1 [==============================] - 0s 417ms/step\n",
      "1/1 [==============================] - 0s 414ms/step\n",
      "1/1 [==============================] - 0s 427ms/step\n",
      "1/1 [==============================] - 0s 494ms/step\n",
      "1/1 [==============================] - 0s 439ms/step\n",
      "1/1 [==============================] - 1s 584ms/step\n",
      "1/1 [==============================] - 0s 464ms/step\n",
      "1/1 [==============================] - 1s 516ms/step\n",
      "1/1 [==============================] - 0s 401ms/step\n",
      "1/1 [==============================] - 0s 444ms/step\n",
      "1/1 [==============================] - 0s 413ms/step\n",
      "1/1 [==============================] - 0s 420ms/step\n",
      "1/1 [==============================] - 0s 433ms/step\n",
      "1/1 [==============================] - 0s 411ms/step\n",
      "1/1 [==============================] - 0s 404ms/step\n",
      "1/1 [==============================] - 0s 393ms/step\n",
      "1/1 [==============================] - 0s 394ms/step\n",
      "1/1 [==============================] - 0s 419ms/step\n",
      "1/1 [==============================] - 0s 416ms/step\n",
      "1/1 [==============================] - 0s 385ms/step\n",
      "1/1 [==============================] - 0s 412ms/step\n",
      "1/1 [==============================] - 0s 421ms/step\n",
      "1/1 [==============================] - 0s 408ms/step\n",
      "1/1 [==============================] - 0s 395ms/step\n",
      "1/1 [==============================] - 0s 403ms/step\n",
      "1/1 [==============================] - 1s 602ms/step\n",
      "1/1 [==============================] - 1s 596ms/step\n",
      "1/1 [==============================] - 0s 406ms/step\n",
      "1/1 [==============================] - 0s 390ms/step\n",
      "1/1 [==============================] - 0s 393ms/step\n",
      "1/1 [==============================] - 0s 418ms/step\n",
      "1/1 [==============================] - 0s 395ms/step\n",
      "1/1 [==============================] - 1s 594ms/step\n",
      "1/1 [==============================] - 0s 386ms/step\n",
      "1/1 [==============================] - 0s 403ms/step\n",
      "1/1 [==============================] - 0s 401ms/step\n",
      "1/1 [==============================] - 0s 401ms/step\n",
      "1/1 [==============================] - 0s 389ms/step\n",
      "1/1 [==============================] - 0s 404ms/step\n",
      "1/1 [==============================] - 0s 395ms/step\n",
      "1/1 [==============================] - 0s 400ms/step\n",
      "1/1 [==============================] - 0s 403ms/step\n",
      "1/1 [==============================] - 0s 388ms/step\n",
      "1/1 [==============================] - 0s 396ms/step\n",
      "1/1 [==============================] - 0s 362ms/step\n",
      "1/1 [==============================] - 0s 363ms/step\n",
      "1/1 [==============================] - 0s 391ms/step\n",
      "1/1 [==============================] - 0s 380ms/step\n",
      "1/1 [==============================] - 0s 358ms/step\n",
      "1/1 [==============================] - 0s 369ms/step\n",
      "1/1 [==============================] - 0s 386ms/step\n",
      "1/1 [==============================] - 0s 425ms/step\n",
      "1/1 [==============================] - 0s 363ms/step\n",
      "1/1 [==============================] - 0s 357ms/step\n",
      "1/1 [==============================] - 0s 370ms/step\n",
      "1/1 [==============================] - 0s 358ms/step\n",
      "1/1 [==============================] - 0s 483ms/step\n",
      "1/1 [==============================] - 0s 358ms/step\n",
      "1/1 [==============================] - 0s 411ms/step\n",
      "1/1 [==============================] - 0s 399ms/step\n",
      "1/1 [==============================] - 0s 376ms/step\n",
      "1/1 [==============================] - 0s 443ms/step\n",
      "1/1 [==============================] - 0s 384ms/step\n",
      "1/1 [==============================] - 0s 357ms/step\n",
      "1/1 [==============================] - 0s 363ms/step\n",
      "1/1 [==============================] - 0s 374ms/step\n",
      "1/1 [==============================] - 0s 381ms/step\n",
      "1/1 [==============================] - 0s 353ms/step\n",
      "1/1 [==============================] - 0s 398ms/step\n",
      "1/1 [==============================] - 0s 374ms/step\n",
      "1/1 [==============================] - 0s 358ms/step\n",
      "1/1 [==============================] - 0s 363ms/step\n",
      "1/1 [==============================] - 0s 362ms/step\n",
      "1/1 [==============================] - 0s 406ms/step\n",
      "1/1 [==============================] - 0s 420ms/step\n",
      "1/1 [==============================] - 0s 359ms/step\n",
      "1/1 [==============================] - 0s 363ms/step\n",
      "1/1 [==============================] - 0s 422ms/step\n",
      "1/1 [==============================] - 0s 392ms/step\n",
      "1/1 [==============================] - 0s 432ms/step\n",
      "1/1 [==============================] - 0s 388ms/step\n",
      "1/1 [==============================] - 0s 463ms/step\n",
      "1/1 [==============================] - 1s 873ms/step\n",
      "1/1 [==============================] - 1s 549ms/step\n",
      "1/1 [==============================] - 1s 672ms/step\n",
      "1/1 [==============================] - 1s 506ms/step\n",
      "1/1 [==============================] - 1s 517ms/step\n",
      "1/1 [==============================] - 0s 401ms/step\n",
      "1/1 [==============================] - 0s 352ms/step\n",
      "1/1 [==============================] - 0s 354ms/step\n",
      "1/1 [==============================] - 0s 354ms/step\n",
      "1/1 [==============================] - 1s 923ms/step\n",
      "1/1 [==============================] - 0s 394ms/step\n",
      "1/1 [==============================] - 0s 364ms/step\n",
      "1/1 [==============================] - 0s 350ms/step\n",
      "1/1 [==============================] - 0s 489ms/step\n",
      "1/1 [==============================] - 0s 423ms/step\n",
      "1/1 [==============================] - 0s 485ms/step\n",
      "1/1 [==============================] - 0s 350ms/step\n",
      "1/1 [==============================] - 0s 354ms/step\n",
      "1/1 [==============================] - 0s 391ms/step\n",
      "1/1 [==============================] - 0s 415ms/step\n",
      "1/1 [==============================] - 0s 443ms/step\n",
      "1/1 [==============================] - 0s 354ms/step\n",
      "1/1 [==============================] - 0s 483ms/step\n",
      "1/1 [==============================] - 1s 536ms/step\n"
     ]
    }
   ],
   "source": [
    "def extract_features(image_paths):\n",
    "    model = VGG16(weights='imagenet', include_top=False, pooling='avg')\n",
    "    features = []\n",
    "    for image_path in image_paths:\n",
    "        image = load_and_preprocess_image(os.path.join(dataset_path, image_path), target_size)\n",
    "        image = np.expand_dims(image, axis=0)  # Add batch dimension\n",
    "        features.append(model.predict(image))\n",
    "    return np.array(features)\n",
    "\n",
    "train_real_features = extract_features([os.path.join(real_images_folder, img) for img in train_real_images])\n",
    "val_real_features = extract_features([os.path.join(real_images_folder, img) for img in val_real_images])\n",
    "train_fake_features = extract_features([os.path.join(fake_images_folder, img) for img in train_fake_images])\n",
    "val_fake_features = extract_features([os.path.join(fake_images_folder, img) for img in val_fake_images])\n",
    "\n",
    "train_features = np.concatenate((train_real_features, train_fake_features))\n",
    "val_features = np.concatenate((val_real_features, val_fake_features))"
   ]
  },
  {
   "cell_type": "markdown",
   "metadata": {},
   "source": [
    "STEP 6 : Model Training"
   ]
  },
  {
   "cell_type": "code",
   "execution_count": 6,
   "metadata": {},
   "outputs": [
    {
     "name": "stdout",
     "output_type": "stream",
     "text": [
      "Epoch 1/50\n",
      "3/3 [==============================] - 4s 317ms/step - loss: 0.6719 - accuracy: 0.6782 - val_loss: 0.6324 - val_accuracy: 0.6818\n",
      "Epoch 2/50\n",
      "3/3 [==============================] - 0s 46ms/step - loss: 0.6252 - accuracy: 0.6782 - val_loss: 0.6015 - val_accuracy: 0.6818\n",
      "Epoch 3/50\n",
      "3/3 [==============================] - 0s 49ms/step - loss: 0.5952 - accuracy: 0.6782 - val_loss: 0.5693 - val_accuracy: 0.6818\n",
      "Epoch 4/50\n",
      "3/3 [==============================] - 0s 39ms/step - loss: 0.5600 - accuracy: 0.6782 - val_loss: 0.5279 - val_accuracy: 0.6818\n",
      "Epoch 5/50\n",
      "3/3 [==============================] - 0s 39ms/step - loss: 0.5128 - accuracy: 0.6782 - val_loss: 0.4723 - val_accuracy: 0.6818\n",
      "Epoch 6/50\n",
      "3/3 [==============================] - 0s 28ms/step - loss: 0.4516 - accuracy: 0.6782 - val_loss: 0.3956 - val_accuracy: 0.6818\n",
      "Epoch 7/50\n",
      "3/3 [==============================] - 0s 29ms/step - loss: 0.3767 - accuracy: 0.8161 - val_loss: 0.3126 - val_accuracy: 0.9545\n",
      "Epoch 8/50\n",
      "3/3 [==============================] - 0s 31ms/step - loss: 0.3033 - accuracy: 0.9310 - val_loss: 0.2410 - val_accuracy: 0.9545\n",
      "Epoch 9/50\n",
      "3/3 [==============================] - 0s 33ms/step - loss: 0.2462 - accuracy: 0.9310 - val_loss: 0.1878 - val_accuracy: 0.9545\n",
      "Epoch 10/50\n",
      "3/3 [==============================] - 0s 33ms/step - loss: 0.2142 - accuracy: 0.9310 - val_loss: 0.1593 - val_accuracy: 0.9545\n",
      "Epoch 11/50\n",
      "3/3 [==============================] - 0s 34ms/step - loss: 0.1965 - accuracy: 0.9310 - val_loss: 0.1512 - val_accuracy: 0.9545\n",
      "Epoch 12/50\n",
      "3/3 [==============================] - 0s 36ms/step - loss: 0.1866 - accuracy: 0.9310 - val_loss: 0.1551 - val_accuracy: 0.9545\n",
      "Epoch 13/50\n",
      "3/3 [==============================] - 0s 42ms/step - loss: 0.1877 - accuracy: 0.9310 - val_loss: 0.1504 - val_accuracy: 0.9545\n",
      "Epoch 14/50\n",
      "3/3 [==============================] - 0s 61ms/step - loss: 0.1829 - accuracy: 0.9310 - val_loss: 0.1415 - val_accuracy: 0.9545\n",
      "Epoch 15/50\n",
      "3/3 [==============================] - 0s 98ms/step - loss: 0.1858 - accuracy: 0.9310 - val_loss: 0.1402 - val_accuracy: 0.9545\n",
      "Epoch 16/50\n",
      "3/3 [==============================] - 0s 94ms/step - loss: 0.1837 - accuracy: 0.9310 - val_loss: 0.1348 - val_accuracy: 0.9545\n",
      "Epoch 17/50\n",
      "3/3 [==============================] - 0s 33ms/step - loss: 0.1719 - accuracy: 0.9310 - val_loss: 0.1442 - val_accuracy: 0.9545\n",
      "Epoch 18/50\n",
      "3/3 [==============================] - 0s 44ms/step - loss: 0.1770 - accuracy: 0.9310 - val_loss: 0.1293 - val_accuracy: 0.9545\n",
      "Epoch 19/50\n",
      "3/3 [==============================] - 0s 84ms/step - loss: 0.1723 - accuracy: 0.9310 - val_loss: 0.1284 - val_accuracy: 0.9545\n",
      "Epoch 20/50\n",
      "3/3 [==============================] - 0s 46ms/step - loss: 0.1668 - accuracy: 0.9310 - val_loss: 0.1252 - val_accuracy: 0.9545\n",
      "Epoch 21/50\n",
      "3/3 [==============================] - 0s 61ms/step - loss: 0.1719 - accuracy: 0.9310 - val_loss: 0.1213 - val_accuracy: 0.9545\n",
      "Epoch 22/50\n",
      "3/3 [==============================] - 0s 27ms/step - loss: 0.1574 - accuracy: 0.9310 - val_loss: 0.1198 - val_accuracy: 0.9545\n",
      "Epoch 23/50\n",
      "3/3 [==============================] - 0s 82ms/step - loss: 0.1669 - accuracy: 0.9310 - val_loss: 0.1189 - val_accuracy: 0.9545\n",
      "Epoch 24/50\n",
      "3/3 [==============================] - 0s 56ms/step - loss: 0.1795 - accuracy: 0.9310 - val_loss: 0.1076 - val_accuracy: 0.9545\n",
      "Epoch 25/50\n",
      "3/3 [==============================] - 0s 32ms/step - loss: 0.1767 - accuracy: 0.9310 - val_loss: 0.1267 - val_accuracy: 0.9545\n",
      "Epoch 26/50\n",
      "3/3 [==============================] - 0s 29ms/step - loss: 0.1622 - accuracy: 0.9310 - val_loss: 0.1042 - val_accuracy: 0.9545\n",
      "Epoch 27/50\n",
      "3/3 [==============================] - 0s 32ms/step - loss: 0.1517 - accuracy: 0.9310 - val_loss: 0.1029 - val_accuracy: 0.9545\n",
      "Epoch 28/50\n",
      "3/3 [==============================] - 0s 30ms/step - loss: 0.1547 - accuracy: 0.9425 - val_loss: 0.1118 - val_accuracy: 0.9545\n",
      "Epoch 29/50\n",
      "3/3 [==============================] - 0s 31ms/step - loss: 0.1540 - accuracy: 0.9310 - val_loss: 0.1039 - val_accuracy: 0.9545\n",
      "Epoch 30/50\n",
      "3/3 [==============================] - 0s 38ms/step - loss: 0.1440 - accuracy: 0.9310 - val_loss: 0.0956 - val_accuracy: 0.9545\n",
      "Epoch 31/50\n",
      "3/3 [==============================] - 0s 44ms/step - loss: 0.1476 - accuracy: 0.9310 - val_loss: 0.0951 - val_accuracy: 0.9545\n",
      "Epoch 32/50\n",
      "3/3 [==============================] - 0s 32ms/step - loss: 0.1573 - accuracy: 0.9310 - val_loss: 0.1065 - val_accuracy: 0.9545\n",
      "Epoch 33/50\n",
      "3/3 [==============================] - 0s 27ms/step - loss: 0.1464 - accuracy: 0.9310 - val_loss: 0.0886 - val_accuracy: 0.9545\n",
      "Epoch 34/50\n",
      "3/3 [==============================] - 0s 30ms/step - loss: 0.1697 - accuracy: 0.9195 - val_loss: 0.1035 - val_accuracy: 0.9545\n",
      "Epoch 35/50\n",
      "3/3 [==============================] - 0s 37ms/step - loss: 0.1493 - accuracy: 0.9310 - val_loss: 0.1008 - val_accuracy: 0.9545\n",
      "Epoch 36/50\n",
      "3/3 [==============================] - 0s 31ms/step - loss: 0.1376 - accuracy: 0.9310 - val_loss: 0.0837 - val_accuracy: 0.9545\n",
      "Epoch 37/50\n",
      "3/3 [==============================] - 0s 35ms/step - loss: 0.1400 - accuracy: 0.9310 - val_loss: 0.0855 - val_accuracy: 0.9545\n",
      "Epoch 38/50\n",
      "3/3 [==============================] - 0s 35ms/step - loss: 0.1480 - accuracy: 0.9195 - val_loss: 0.1039 - val_accuracy: 0.9545\n",
      "Epoch 39/50\n",
      "3/3 [==============================] - 0s 42ms/step - loss: 0.1600 - accuracy: 0.9310 - val_loss: 0.1144 - val_accuracy: 0.9545\n",
      "Epoch 40/50\n",
      "3/3 [==============================] - 0s 42ms/step - loss: 0.1536 - accuracy: 0.9195 - val_loss: 0.0840 - val_accuracy: 1.0000\n",
      "Epoch 41/50\n",
      "3/3 [==============================] - 0s 28ms/step - loss: 0.1608 - accuracy: 0.9310 - val_loss: 0.1050 - val_accuracy: 0.9545\n",
      "Epoch 42/50\n",
      "3/3 [==============================] - 0s 29ms/step - loss: 0.1505 - accuracy: 0.9310 - val_loss: 0.1084 - val_accuracy: 0.9545\n",
      "Epoch 43/50\n",
      "3/3 [==============================] - 0s 26ms/step - loss: 0.1342 - accuracy: 0.9310 - val_loss: 0.0785 - val_accuracy: 0.9545\n",
      "Epoch 44/50\n",
      "3/3 [==============================] - 0s 43ms/step - loss: 0.1791 - accuracy: 0.9195 - val_loss: 0.0854 - val_accuracy: 0.9545\n",
      "Epoch 45/50\n",
      "3/3 [==============================] - 0s 76ms/step - loss: 0.1412 - accuracy: 0.9310 - val_loss: 0.1520 - val_accuracy: 0.9545\n",
      "Epoch 46/50\n",
      "3/3 [==============================] - 0s 26ms/step - loss: 0.1974 - accuracy: 0.9310 - val_loss: 0.1195 - val_accuracy: 0.9545\n",
      "Epoch 47/50\n",
      "3/3 [==============================] - 0s 25ms/step - loss: 0.1655 - accuracy: 0.9195 - val_loss: 0.0869 - val_accuracy: 0.9545\n",
      "Epoch 48/50\n",
      "3/3 [==============================] - 0s 27ms/step - loss: 0.1664 - accuracy: 0.9195 - val_loss: 0.0878 - val_accuracy: 0.9545\n",
      "Epoch 49/50\n",
      "3/3 [==============================] - 0s 27ms/step - loss: 0.1308 - accuracy: 0.9310 - val_loss: 0.1240 - val_accuracy: 0.9545\n",
      "Epoch 50/50\n",
      "3/3 [==============================] - 0s 24ms/step - loss: 0.1580 - accuracy: 0.9310 - val_loss: 0.1048 - val_accuracy: 0.9545\n"
     ]
    },
    {
     "data": {
      "text/plain": [
       "<keras.src.callbacks.History at 0x2383b315910>"
      ]
     },
     "execution_count": 6,
     "metadata": {},
     "output_type": "execute_result"
    }
   ],
   "source": [
    "train_labels = np.array([1] * len(train_real_features) + [0] * len(train_fake_features))\n",
    "val_labels = np.array([1] * len(val_real_features) + [0] * len(val_fake_features))\n",
    "\n",
    "model = Sequential()\n",
    "model.add(Flatten(input_shape=train_features.shape[1:]))\n",
    "model.add(Dense(64, activation='relu'))\n",
    "model.add(Dense(64, activation='relu'))\n",
    "model.add(Dense(64, activation='relu'))\n",
    "model.add(Dense(64, activation='relu'))\n",
    "model.add(Dense(64, activation='relu'))\n",
    "model.add(Dense(1, activation='sigmoid'))\n",
    "\n",
    "model.compile(optimizer=Adam(), loss='binary_crossentropy', metrics=['accuracy'])\n",
    "model.fit(train_features, train_labels, batch_size=32, epochs=50, validation_data=(val_features, val_labels))"
   ]
  },
  {
   "cell_type": "code",
   "execution_count": 7,
   "metadata": {},
   "outputs": [
    {
     "name": "stdout",
     "output_type": "stream",
     "text": [
      "1/1 [==============================] - 0s 174ms/step\n",
      "Test Confusion Matrix:\n",
      "[[14  1]\n",
      " [ 0  7]]\n",
      "Test Accuracy: 0.9545454545454546\n"
     ]
    }
   ],
   "source": [
    "import seaborn as sns\n",
    "import matplotlib.pyplot as plt\n",
    "test_labels = np.array([1] * len(val_real_features) + [0] * len(val_fake_features))\n",
    "\n",
    "test_predictions = model.predict(val_features)\n",
    "test_predicted_labels = np.where(test_predictions > 0.5, 1, 0)\n",
    "\n",
    "test_cm = confusion_matrix(test_labels, test_predicted_labels)\n",
    "test_accuracy = np.sum(np.diag(test_cm)) / np.sum(test_cm)\n",
    "\n",
    "print(\"Test Confusion Matrix:\")\n",
    "print(test_cm)\n",
    "print(\"Test Accuracy:\", test_accuracy)"
   ]
  },
  {
   "cell_type": "markdown",
   "metadata": {},
   "source": [
    "Plot the confusion matrix"
   ]
  },
  {
   "cell_type": "code",
   "execution_count": 8,
   "metadata": {},
   "outputs": [
    {
     "data": {
      "image/png": "[encoded data removed]",
      "text/plain": [
       "<Figure size 800x600 with 1 Axes>"
      ]
     },
     "metadata": {},
     "output_type": "display_data"
    }
   ],
   "source": [
    "plt.figure(figsize=(8, 6))\n",
    "sns.heatmap(test_cm, annot=True, fmt=\"d\", cmap=\"Blues\", cbar=False,\n",
    "            xticklabels=[\"Fake\", \"Real\"], yticklabels=[\"Fake\", \"Real\"])\n",
    "plt.xlabel(\"Predicted\")\n",
    "plt.ylabel(\"True\")\n",
    "plt.title(\"Confusion Matrix\")\n",
    "plt.show()"
   ]
  },
  {
   "cell_type": "markdown",
   "metadata": {},
   "source": [
    "STEP 7 - Model Evaluation"
   ]
  },
  {
   "cell_type": "code",
   "execution_count": 10,
   "metadata": {},
   "outputs": [
    {
     "name": "stdout",
     "output_type": "stream",
     "text": [
      "1/1 [==============================] - 1s 676ms/step\n",
      "1/1 [==============================] - 0s 343ms/step\n",
      "1/1 [==============================] - 0s 394ms/step\n",
      "1/1 [==============================] - 0s 465ms/step\n",
      "1/1 [==============================] - 0s 342ms/step\n",
      "1/1 [==============================] - 0s 459ms/step\n",
      "1/1 [==============================] - 0s 466ms/step\n",
      "1/1 [==============================] - 0s 467ms/step\n",
      "1/1 [==============================] - 0s 431ms/step\n",
      "1/1 [==============================] - 0s 444ms/step\n",
      "1/1 [==============================] - 0s 31ms/step\n",
      "C:\\Users\\admin\\OneDrive\\Desktop\\Document_verification\\Cheque\\Testing\\Fake_Cheque_17.jpg: Fake\n",
      "C:\\Users\\admin\\OneDrive\\Desktop\\Document_verification\\Cheque\\Testing\\Fake_Cheque_18.jpg: Fake\n",
      "C:\\Users\\admin\\OneDrive\\Desktop\\Document_verification\\Cheque\\Testing\\Fake_Cheque_19.jpg: Fake\n",
      "C:\\Users\\admin\\OneDrive\\Desktop\\Document_verification\\Cheque\\Testing\\Fake_Cheque_2.jpg: Fake\n",
      "C:\\Users\\admin\\OneDrive\\Desktop\\Document_verification\\Cheque\\Testing\\Fake_Cheque_3.jpg: Fake\n",
      "C:\\Users\\admin\\OneDrive\\Desktop\\Document_verification\\Cheque\\Testing\\Real_Cheque_1.jpg: Real\n",
      "C:\\Users\\admin\\OneDrive\\Desktop\\Document_verification\\Cheque\\Testing\\Real_Cheque_15.jpg: Real\n",
      "C:\\Users\\admin\\OneDrive\\Desktop\\Document_verification\\Cheque\\Testing\\Real_Cheque_16.jpg: Real\n",
      "C:\\Users\\admin\\OneDrive\\Desktop\\Document_verification\\Cheque\\Testing\\Real_Cheque_26.jpg: Real\n",
      "C:\\Users\\admin\\OneDrive\\Desktop\\Document_verification\\Cheque\\Testing\\Real_Cheque_8.jpg: Real\n"
     ]
    }
   ],
   "source": [
    "test_images_folder = r\"C:\\Users\\admin\\OneDrive\\Desktop\\Document_verification\\Cheque\\Testing\"  # Update this with the path to your test images folder\n",
    "test_image_paths = [os.path.join(test_images_folder, img) for img in os.listdir(test_images_folder)]\n",
    "test_features = extract_features(test_image_paths)\n",
    "\n",
    "predictions = model.predict(test_features)\n",
    "predicted_labels = [\"Real\" if pred > 0.5 else \"Fake\" for pred in predictions]\n",
    "\n",
    "for image_path, label in zip(test_image_paths, predicted_labels):\n",
    "    print(f\"{image_path}: {label}\")"
   ]
  },
  {
   "cell_type": "markdown",
   "metadata": {},
   "source": [
    "STEP 8 - Deploying the model as .pkl, .h5, .json"
   ]
  },
  {
   "cell_type": "code",
   "execution_count": 11,
   "metadata": {},
   "outputs": [
    {
     "name": "stderr",
     "output_type": "stream",
     "text": [
      "c:\\Users\\admin\\AppData\\Local\\Programs\\Python\\Python311\\Lib\\site-packages\\keras\\src\\engine\\training.py:3000: UserWarning: You are saving your model as an HDF5 file via `model.save()`. This file format is considered legacy. We recommend using instead the native Keras format, e.g. `model.save('my_model.keras')`.\n",
      "  saving_api.save_model(\n"
     ]
    },
    {
     "data": {
      "text/plain": [
       "'C:\\\\Users\\\\admin\\\\OneDrive\\\\Desktop\\\\Document_verification\\\\Cheque\\\\Training\\\\Models_Trained\\\\model.pkl'"
      ]
     },
     "execution_count": 11,
     "metadata": {},
     "output_type": "execute_result"
    }
   ],
   "source": [
    "import pickle\n",
    "import h5py\n",
    "import os\n",
    "import shutil\n",
    "\n",
    "# Assuming you have trained a model and stored it in the 'model' variable\n",
    "\n",
    "# Save model as HDF5 file\n",
    "h5_filename = 'model.h5'\n",
    "model.save(h5_filename)\n",
    "\n",
    "# Save model as pickle file\n",
    "pickle_filename = 'model.pkl'\n",
    "with open(pickle_filename, 'wb') as f:\n",
    "    pickle.dump(model, f)\n",
    "\n",
    "# Specify the folder path to save the model files\n",
    "folder_path = r'C:\\Users\\admin\\OneDrive\\Desktop\\Document_verification\\Cheque\\Training\\Models_Trained'\n",
    "\n",
    "# Create the folder if it doesn't exist\n",
    "if not os.path.exists(folder_path):\n",
    "    os.makedirs(folder_path)\n",
    "\n",
    "# Move the saved model files to the folder\n",
    "h5_filepath = os.path.join(folder_path, h5_filename)\n",
    "pickle_filepath = os.path.join(folder_path, pickle_filename)\n",
    "shutil.move(h5_filename, h5_filepath)\n",
    "shutil.move(pickle_filename, pickle_filepath)\n"
   ]
  }
 ],
 "metadata": {
  "kernelspec": {
   "display_name": "Python 3",
   "language": "python",
   "name": "python3"
  },
  "language_info": {
   "codemirror_mode": {
    "name": "ipython",
    "version": 3
   },
   "file_extension": ".py",
   "mimetype": "text/x-python",
   "name": "python",
   "nbconvert_exporter": "python",
   "pygments_lexer": "ipython3",
   "version": "3.11.3"
  },
  "orig_nbformat": 4
 },
 "nbformat": 4,
 "nbformat_minor": 2
}
