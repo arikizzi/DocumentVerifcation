{
 "cells": [
  {
   "cell_type": "markdown",
   "metadata": {},
   "source": [
    "AADHAR VERIFICATION"
   ]
  },
  {
   "cell_type": "markdown",
   "metadata": {},
   "source": [
    "STEP 1 : Importing all the necessary Librarires for building the Model"
   ]
  },
  {
   "cell_type": "code",
   "execution_count": 7,
   "metadata": {},
   "outputs": [],
   "source": [
    "import os\n",
    "import shutil\n",
    "import random\n",
    "import pickle\n",
    "import numpy as np\n",
    "from PIL import Image\n",
    "from sklearn.model_selection import train_test_split\n",
    "from keras.applications.vgg16 import VGG16\n",
    "from keras.models import Sequential\n",
    "from keras.layers import Dense, Flatten\n",
    "from keras.optimizers import Adam\n",
    "from sklearn.metrics import confusion_matrix, classification_report"
   ]
  },
  {
   "cell_type": "markdown",
   "metadata": {},
   "source": [
    "STEP 2 : Gather a labeled dataset consisting of real and fake Aadhaar card images"
   ]
  },
  {
   "cell_type": "code",
   "execution_count": 8,
   "metadata": {},
   "outputs": [],
   "source": [
    "dataset_path = r\"C:\\Users\\admin\\OneDrive\\Desktop\\Document_verification\\Aadhar\\Dataset\"\n",
    "real_images_folder = os.path.join(dataset_path, \"Real\")\n",
    "fake_images_folder = os.path.join(dataset_path, \"Fake\")\n"
   ]
  },
  {
   "cell_type": "markdown",
   "metadata": {},
   "source": [
    "STEP 3 : Data Preprocessing: Convert the images to a consistent format and resize them"
   ]
  },
  {
   "cell_type": "code",
   "execution_count": 9,
   "metadata": {},
   "outputs": [],
   "source": [
    "target_size = (224, 224)  # Specify the desired target size for the images\n",
    "\n",
    "def load_and_preprocess_image(image_path, target_size):\n",
    "    image = Image.open(image_path).convert('RGB')\n",
    "    image = image.resize(target_size)\n",
    "    image = np.array(image) / 255.0  # Normalize pixel values to the range of [0, 1]\n",
    "    return image"
   ]
  },
  {
   "cell_type": "markdown",
   "metadata": {},
   "source": [
    "STEP 4 : Splitting the Dataset: Split the dataset into training and validation sets"
   ]
  },
  {
   "cell_type": "code",
   "execution_count": 10,
   "metadata": {},
   "outputs": [],
   "source": [
    "train_real_images, val_real_images = train_test_split(os.listdir(real_images_folder), test_size=0.2, random_state=42)\n",
    "train_fake_images, val_fake_images = train_test_split(os.listdir(fake_images_folder), test_size=0.2, random_state=42)"
   ]
  },
  {
   "cell_type": "markdown",
   "metadata": {},
   "source": [
    "STEP 5 : Feature Extraction"
   ]
  },
  {
   "cell_type": "code",
   "execution_count": 11,
   "metadata": {},
   "outputs": [
    {
     "name": "stdout",
     "output_type": "stream",
     "text": [
      "Downloading data from https://storage.googleapis.com/tensorflow/keras-applications/vgg16/vgg16_weights_tf_dim_ordering_tf_kernels_notop.h5\n",
      "58889256/58889256 [==============================] - 125s 2us/step\n",
      "1/1 [==============================] - 1s 1s/step\n",
      "1/1 [==============================] - 1s 516ms/step\n",
      "1/1 [==============================] - 1s 520ms/step\n",
      "1/1 [==============================] - 1s 594ms/step\n",
      "1/1 [==============================] - 0s 457ms/step\n",
      "1/1 [==============================] - 0s 412ms/step\n",
      "1/1 [==============================] - 0s 388ms/step\n",
      "1/1 [==============================] - 0s 417ms/step\n",
      "1/1 [==============================] - 0s 399ms/step\n",
      "1/1 [==============================] - 0s 431ms/step\n",
      "1/1 [==============================] - 1s 534ms/step\n",
      "1/1 [==============================] - 0s 436ms/step\n",
      "1/1 [==============================] - 0s 416ms/step\n",
      "1/1 [==============================] - 0s 436ms/step\n",
      "1/1 [==============================] - 1s 512ms/step\n",
      "1/1 [==============================] - 1s 701ms/step\n",
      "1/1 [==============================] - 0s 382ms/step\n",
      "1/1 [==============================] - 0s 387ms/step\n",
      "1/1 [==============================] - 0s 365ms/step\n",
      "1/1 [==============================] - 0s 356ms/step\n",
      "1/1 [==============================] - 0s 363ms/step\n",
      "1/1 [==============================] - 0s 373ms/step\n",
      "1/1 [==============================] - 1s 525ms/step\n",
      "1/1 [==============================] - 0s 351ms/step\n",
      "1/1 [==============================] - 0s 347ms/step\n",
      "1/1 [==============================] - 0s 353ms/step\n",
      "1/1 [==============================] - 0s 352ms/step\n",
      "1/1 [==============================] - 0s 347ms/step\n",
      "1/1 [==============================] - 1s 541ms/step\n",
      "1/1 [==============================] - 0s 350ms/step\n",
      "1/1 [==============================] - 0s 354ms/step\n",
      "1/1 [==============================] - 0s 357ms/step\n",
      "1/1 [==============================] - 0s 349ms/step\n",
      "1/1 [==============================] - 0s 363ms/step\n",
      "1/1 [==============================] - 0s 347ms/step\n",
      "1/1 [==============================] - 0s 356ms/step\n",
      "1/1 [==============================] - 0s 346ms/step\n",
      "1/1 [==============================] - 0s 356ms/step\n",
      "1/1 [==============================] - 0s 362ms/step\n",
      "1/1 [==============================] - 0s 357ms/step\n",
      "1/1 [==============================] - 0s 366ms/step\n",
      "1/1 [==============================] - 0s 438ms/step\n",
      "1/1 [==============================] - 1s 518ms/step\n",
      "1/1 [==============================] - 1s 529ms/step\n",
      "1/1 [==============================] - 0s 484ms/step\n",
      "1/1 [==============================] - 1s 567ms/step\n",
      "1/1 [==============================] - 1s 576ms/step\n",
      "1/1 [==============================] - 1s 565ms/step\n",
      "1/1 [==============================] - 0s 369ms/step\n",
      "1/1 [==============================] - 0s 346ms/step\n",
      "1/1 [==============================] - 0s 361ms/step\n",
      "1/1 [==============================] - 1s 520ms/step\n",
      "1/1 [==============================] - 1s 507ms/step\n",
      "1/1 [==============================] - 0s 445ms/step\n",
      "1/1 [==============================] - 1s 534ms/step\n",
      "1/1 [==============================] - 0s 426ms/step\n",
      "1/1 [==============================] - 0s 386ms/step\n",
      "1/1 [==============================] - 0s 409ms/step\n",
      "1/1 [==============================] - 0s 361ms/step\n",
      "1/1 [==============================] - 0s 420ms/step\n",
      "1/1 [==============================] - 0s 415ms/step\n",
      "1/1 [==============================] - 0s 390ms/step\n",
      "1/1 [==============================] - 0s 383ms/step\n",
      "1/1 [==============================] - 0s 483ms/step\n",
      "1/1 [==============================] - 0s 419ms/step\n",
      "1/1 [==============================] - 0s 444ms/step\n",
      "1/1 [==============================] - 0s 364ms/step\n",
      "1/1 [==============================] - 0s 433ms/step\n",
      "1/1 [==============================] - 0s 442ms/step\n",
      "1/1 [==============================] - 1s 522ms/step\n",
      "1/1 [==============================] - 1s 524ms/step\n",
      "1/1 [==============================] - 0s 453ms/step\n",
      "1/1 [==============================] - 0s 441ms/step\n",
      "1/1 [==============================] - 0s 474ms/step\n",
      "1/1 [==============================] - 1s 601ms/step\n",
      "1/1 [==============================] - 1s 556ms/step\n",
      "1/1 [==============================] - 0s 405ms/step\n",
      "1/1 [==============================] - 1s 589ms/step\n",
      "1/1 [==============================] - 0s 468ms/step\n",
      "1/1 [==============================] - 0s 463ms/step\n",
      "1/1 [==============================] - 0s 367ms/step\n",
      "1/1 [==============================] - 0s 387ms/step\n",
      "1/1 [==============================] - 0s 341ms/step\n",
      "1/1 [==============================] - 0s 344ms/step\n",
      "1/1 [==============================] - 0s 383ms/step\n",
      "1/1 [==============================] - 0s 399ms/step\n"
     ]
    }
   ],
   "source": [
    "def extract_features(image_paths):\n",
    "    model = VGG16(weights='imagenet', include_top=False, pooling='avg')\n",
    "    features = []\n",
    "    for image_path in image_paths:\n",
    "        image = load_and_preprocess_image(os.path.join(dataset_path, image_path), target_size)\n",
    "        image = np.expand_dims(image, axis=0)  # Add batch dimension\n",
    "        features.append(model.predict(image))\n",
    "    return np.array(features)\n",
    "\n",
    "train_real_features = extract_features([os.path.join(real_images_folder, img) for img in train_real_images])\n",
    "val_real_features = extract_features([os.path.join(real_images_folder, img) for img in val_real_images])\n",
    "train_fake_features = extract_features([os.path.join(fake_images_folder, img) for img in train_fake_images])\n",
    "val_fake_features = extract_features([os.path.join(fake_images_folder, img) for img in val_fake_images])\n",
    "\n",
    "train_features = np.concatenate((train_real_features, train_fake_features))\n",
    "val_features = np.concatenate((val_real_features, val_fake_features))"
   ]
  },
  {
   "cell_type": "markdown",
   "metadata": {},
   "source": [
    "STEP 6 : Model Training"
   ]
  },
  {
   "cell_type": "code",
   "execution_count": 14,
   "metadata": {},
   "outputs": [
    {
     "name": "stdout",
     "output_type": "stream",
     "text": [
      "Epoch 1/50\n",
      "3/3 [==============================] - 3s 323ms/step - loss: 0.6828 - accuracy: 0.6176 - val_loss: 0.6516 - val_accuracy: 0.6667\n",
      "Epoch 2/50\n",
      "3/3 [==============================] - 0s 63ms/step - loss: 0.6324 - accuracy: 0.6765 - val_loss: 0.6484 - val_accuracy: 0.6667\n",
      "Epoch 3/50\n",
      "3/3 [==============================] - 0s 47ms/step - loss: 0.6362 - accuracy: 0.6765 - val_loss: 0.6659 - val_accuracy: 0.6667\n",
      "Epoch 4/50\n",
      "3/3 [==============================] - 0s 30ms/step - loss: 0.6492 - accuracy: 0.6765 - val_loss: 0.6673 - val_accuracy: 0.6667\n",
      "Epoch 5/50\n",
      "3/3 [==============================] - 0s 49ms/step - loss: 0.6482 - accuracy: 0.6765 - val_loss: 0.6475 - val_accuracy: 0.6667\n",
      "Epoch 6/50\n",
      "3/3 [==============================] - 0s 34ms/step - loss: 0.6301 - accuracy: 0.6765 - val_loss: 0.6325 - val_accuracy: 0.6667\n",
      "Epoch 7/50\n",
      "3/3 [==============================] - 0s 32ms/step - loss: 0.6165 - accuracy: 0.6765 - val_loss: 0.6117 - val_accuracy: 0.6667\n",
      "Epoch 8/50\n",
      "3/3 [==============================] - 0s 30ms/step - loss: 0.5925 - accuracy: 0.6765 - val_loss: 0.5775 - val_accuracy: 0.6667\n",
      "Epoch 9/50\n",
      "3/3 [==============================] - 0s 32ms/step - loss: 0.5666 - accuracy: 0.6765 - val_loss: 0.5582 - val_accuracy: 0.6667\n",
      "Epoch 10/50\n",
      "3/3 [==============================] - 0s 29ms/step - loss: 0.5622 - accuracy: 0.6765 - val_loss: 0.5446 - val_accuracy: 0.6667\n",
      "Epoch 11/50\n",
      "3/3 [==============================] - 0s 37ms/step - loss: 0.5448 - accuracy: 0.6765 - val_loss: 0.5128 - val_accuracy: 0.6667\n",
      "Epoch 12/50\n",
      "3/3 [==============================] - 0s 34ms/step - loss: 0.5097 - accuracy: 0.6765 - val_loss: 0.5008 - val_accuracy: 0.6667\n",
      "Epoch 13/50\n",
      "3/3 [==============================] - 0s 40ms/step - loss: 0.4914 - accuracy: 0.6765 - val_loss: 0.4828 - val_accuracy: 0.6667\n",
      "Epoch 14/50\n",
      "3/3 [==============================] - 0s 41ms/step - loss: 0.4650 - accuracy: 0.6765 - val_loss: 0.4171 - val_accuracy: 0.6667\n",
      "Epoch 15/50\n",
      "3/3 [==============================] - 0s 36ms/step - loss: 0.4184 - accuracy: 0.7206 - val_loss: 0.3656 - val_accuracy: 0.7778\n",
      "Epoch 16/50\n",
      "3/3 [==============================] - 0s 27ms/step - loss: 0.3691 - accuracy: 0.8235 - val_loss: 0.3754 - val_accuracy: 0.6667\n",
      "Epoch 17/50\n",
      "3/3 [==============================] - 0s 25ms/step - loss: 0.3594 - accuracy: 0.7059 - val_loss: 0.3026 - val_accuracy: 0.8333\n",
      "Epoch 18/50\n",
      "3/3 [==============================] - 0s 32ms/step - loss: 0.2814 - accuracy: 0.9265 - val_loss: 0.2448 - val_accuracy: 1.0000\n",
      "Epoch 19/50\n",
      "3/3 [==============================] - 0s 28ms/step - loss: 0.2664 - accuracy: 1.0000 - val_loss: 0.2221 - val_accuracy: 0.9444\n",
      "Epoch 20/50\n",
      "3/3 [==============================] - 0s 27ms/step - loss: 0.2246 - accuracy: 0.9412 - val_loss: 0.2734 - val_accuracy: 0.8333\n",
      "Epoch 21/50\n",
      "3/3 [==============================] - 0s 23ms/step - loss: 0.2134 - accuracy: 0.9118 - val_loss: 0.1440 - val_accuracy: 1.0000\n",
      "Epoch 22/50\n",
      "3/3 [==============================] - 0s 27ms/step - loss: 0.1647 - accuracy: 1.0000 - val_loss: 0.1151 - val_accuracy: 1.0000\n",
      "Epoch 23/50\n",
      "3/3 [==============================] - 0s 27ms/step - loss: 0.1178 - accuracy: 1.0000 - val_loss: 0.1695 - val_accuracy: 0.9444\n",
      "Epoch 24/50\n",
      "3/3 [==============================] - 0s 23ms/step - loss: 0.1339 - accuracy: 0.9559 - val_loss: 0.0752 - val_accuracy: 1.0000\n",
      "Epoch 25/50\n",
      "3/3 [==============================] - 0s 23ms/step - loss: 0.0740 - accuracy: 1.0000 - val_loss: 0.0511 - val_accuracy: 1.0000\n",
      "Epoch 26/50\n",
      "3/3 [==============================] - 0s 26ms/step - loss: 0.0616 - accuracy: 1.0000 - val_loss: 0.0362 - val_accuracy: 1.0000\n",
      "Epoch 27/50\n",
      "3/3 [==============================] - 0s 26ms/step - loss: 0.0353 - accuracy: 1.0000 - val_loss: 0.0463 - val_accuracy: 1.0000\n",
      "Epoch 28/50\n",
      "3/3 [==============================] - 0s 34ms/step - loss: 0.0373 - accuracy: 1.0000 - val_loss: 0.0219 - val_accuracy: 1.0000\n",
      "Epoch 29/50\n",
      "3/3 [==============================] - 0s 38ms/step - loss: 0.0196 - accuracy: 1.0000 - val_loss: 0.0105 - val_accuracy: 1.0000\n",
      "Epoch 30/50\n",
      "3/3 [==============================] - 0s 41ms/step - loss: 0.0148 - accuracy: 1.0000 - val_loss: 0.0077 - val_accuracy: 1.0000\n",
      "Epoch 31/50\n",
      "3/3 [==============================] - 0s 40ms/step - loss: 0.0110 - accuracy: 1.0000 - val_loss: 0.0068 - val_accuracy: 1.0000\n",
      "Epoch 32/50\n",
      "3/3 [==============================] - 0s 30ms/step - loss: 0.0068 - accuracy: 1.0000 - val_loss: 0.0082 - val_accuracy: 1.0000\n",
      "Epoch 33/50\n",
      "3/3 [==============================] - 0s 37ms/step - loss: 0.0067 - accuracy: 1.0000 - val_loss: 0.0061 - val_accuracy: 1.0000\n",
      "Epoch 34/50\n",
      "3/3 [==============================] - 0s 58ms/step - loss: 0.0050 - accuracy: 1.0000 - val_loss: 0.0033 - val_accuracy: 1.0000\n",
      "Epoch 35/50\n",
      "3/3 [==============================] - 0s 35ms/step - loss: 0.0031 - accuracy: 1.0000 - val_loss: 0.0023 - val_accuracy: 1.0000\n",
      "Epoch 36/50\n",
      "3/3 [==============================] - 0s 33ms/step - loss: 0.0027 - accuracy: 1.0000 - val_loss: 0.0018 - val_accuracy: 1.0000\n",
      "Epoch 37/50\n",
      "3/3 [==============================] - 0s 35ms/step - loss: 0.0025 - accuracy: 1.0000 - val_loss: 0.0016 - val_accuracy: 1.0000\n",
      "Epoch 38/50\n",
      "3/3 [==============================] - 0s 36ms/step - loss: 0.0021 - accuracy: 1.0000 - val_loss: 0.0016 - val_accuracy: 1.0000\n",
      "Epoch 39/50\n",
      "3/3 [==============================] - 0s 34ms/step - loss: 0.0017 - accuracy: 1.0000 - val_loss: 0.0017 - val_accuracy: 1.0000\n",
      "Epoch 40/50\n",
      "3/3 [==============================] - 0s 26ms/step - loss: 0.0016 - accuracy: 1.0000 - val_loss: 0.0017 - val_accuracy: 1.0000\n",
      "Epoch 41/50\n",
      "3/3 [==============================] - 0s 28ms/step - loss: 0.0015 - accuracy: 1.0000 - val_loss: 0.0015 - val_accuracy: 1.0000\n",
      "Epoch 42/50\n",
      "3/3 [==============================] - 0s 26ms/step - loss: 0.0013 - accuracy: 1.0000 - val_loss: 0.0012 - val_accuracy: 1.0000\n",
      "Epoch 43/50\n",
      "3/3 [==============================] - 0s 26ms/step - loss: 0.0012 - accuracy: 1.0000 - val_loss: 0.0011 - val_accuracy: 1.0000\n",
      "Epoch 44/50\n",
      "3/3 [==============================] - 0s 28ms/step - loss: 0.0011 - accuracy: 1.0000 - val_loss: 9.3172e-04 - val_accuracy: 1.0000\n",
      "Epoch 45/50\n",
      "3/3 [==============================] - 0s 36ms/step - loss: 0.0010 - accuracy: 1.0000 - val_loss: 8.6641e-04 - val_accuracy: 1.0000\n",
      "Epoch 46/50\n",
      "3/3 [==============================] - 0s 62ms/step - loss: 9.5864e-04 - accuracy: 1.0000 - val_loss: 8.0829e-04 - val_accuracy: 1.0000\n",
      "Epoch 47/50\n",
      "3/3 [==============================] - 0s 147ms/step - loss: 9.0666e-04 - accuracy: 1.0000 - val_loss: 7.3160e-04 - val_accuracy: 1.0000\n",
      "Epoch 48/50\n",
      "3/3 [==============================] - 0s 53ms/step - loss: 9.0068e-04 - accuracy: 1.0000 - val_loss: 6.5326e-04 - val_accuracy: 1.0000\n",
      "Epoch 49/50\n",
      "3/3 [==============================] - 0s 28ms/step - loss: 9.1203e-04 - accuracy: 1.0000 - val_loss: 6.2028e-04 - val_accuracy: 1.0000\n",
      "Epoch 50/50\n",
      "3/3 [==============================] - 0s 28ms/step - loss: 8.5480e-04 - accuracy: 1.0000 - val_loss: 6.0130e-04 - val_accuracy: 1.0000\n"
     ]
    },
    {
     "data": {
      "text/plain": [
       "<keras.src.callbacks.History at 0x1dd5026d810>"
      ]
     },
     "execution_count": 14,
     "metadata": {},
     "output_type": "execute_result"
    }
   ],
   "source": [
    "train_labels = np.array([1] * len(train_real_features) + [0] * len(train_fake_features))\n",
    "val_labels = np.array([1] * len(val_real_features) + [0] * len(val_fake_features))\n",
    "\n",
    "model = Sequential()\n",
    "model.add(Flatten(input_shape=train_features.shape[1:]))\n",
    "model.add(Dense(64, activation='relu'))\n",
    "model.add(Dense(64, activation='relu'))\n",
    "model.add(Dense(64, activation='relu'))\n",
    "model.add(Dense(64, activation='relu'))\n",
    "model.add(Dense(64, activation='relu'))\n",
    "model.add(Dense(1, activation='sigmoid'))\n",
    "\n",
    "model.compile(optimizer=Adam(), loss='binary_crossentropy', metrics=['accuracy'])\n",
    "model.fit(train_features, train_labels, batch_size=32, epochs=50, validation_data=(val_features, val_labels))"
   ]
  },
  {
   "cell_type": "code",
   "execution_count": 15,
   "metadata": {},
   "outputs": [
    {
     "name": "stdout",
     "output_type": "stream",
     "text": [
      "1/1 [==============================] - 0s 139ms/step\n",
      "Test Confusion Matrix:\n",
      "[[12  0]\n",
      " [ 0  6]]\n",
      "Test Accuracy: 1.0\n"
     ]
    }
   ],
   "source": [
    "import seaborn as sns\n",
    "import matplotlib.pyplot as plt\n",
    "test_labels = np.array([1] * len(val_real_features) + [0] * len(val_fake_features))\n",
    "\n",
    "test_predictions = model.predict(val_features)\n",
    "test_predicted_labels = np.where(test_predictions > 0.5, 1, 0)\n",
    "\n",
    "test_cm = confusion_matrix(test_labels, test_predicted_labels)\n",
    "test_accuracy = np.sum(np.diag(test_cm)) / np.sum(test_cm)\n",
    "\n",
    "print(\"Test Confusion Matrix:\")\n",
    "print(test_cm)\n",
    "print(\"Test Accuracy:\", test_accuracy)"
   ]
  },
  {
   "cell_type": "markdown",
   "metadata": {},
   "source": [
    "Plot the confusion matrix"
   ]
  },
  {
   "cell_type": "code",
   "execution_count": 16,
   "metadata": {},
   "outputs": [
    {
     "data": {
      "image/png": "[encoded data removed]",
      "text/plain": [
       "<Figure size 800x600 with 1 Axes>"
      ]
     },
     "metadata": {},
     "output_type": "display_data"
    }
   ],
   "source": [
    "plt.figure(figsize=(8, 6))\n",
    "sns.heatmap(test_cm, annot=True, fmt=\"d\", cmap=\"Blues\", cbar=False,\n",
    "            xticklabels=[\"Fake\", \"Real\"], yticklabels=[\"Fake\", \"Real\"])\n",
    "plt.xlabel(\"Predicted\")\n",
    "plt.ylabel(\"True\")\n",
    "plt.title(\"Confusion Matrix\")\n",
    "plt.show()"
   ]
  },
  {
   "cell_type": "markdown",
   "metadata": {},
   "source": [
    "STEP 7 - Model Evaluation"
   ]
  },
  {
   "cell_type": "code",
   "execution_count": 18,
   "metadata": {},
   "outputs": [
    {
     "name": "stdout",
     "output_type": "stream",
     "text": [
      "1/1 [==============================] - 1s 769ms/step\n",
      "1/1 [==============================] - 0s 413ms/step\n",
      "1/1 [==============================] - 0s 357ms/step\n",
      "1/1 [==============================] - 0s 410ms/step\n",
      "1/1 [==============================] - 1s 638ms/step\n",
      "1/1 [==============================] - 0s 373ms/step\n",
      "1/1 [==============================] - 0s 373ms/step\n",
      "1/1 [==============================] - 0s 351ms/step\n",
      "1/1 [==============================] - 0s 350ms/step\n",
      "1/1 [==============================] - 0s 352ms/step\n",
      "1/1 [==============================] - 0s 353ms/step\n",
      "1/1 [==============================] - 0s 438ms/step\n",
      "1/1 [==============================] - 0s 43ms/step\n",
      "C:\\Users\\admin\\OneDrive\\Desktop\\Document_verification\\Aadhar\\Testing\\Fake_Aadhar_1.jpg: Fake\n",
      "C:\\Users\\admin\\OneDrive\\Desktop\\Document_verification\\Aadhar\\Testing\\Fake_Aadhar_2.jpg: Fake\n",
      "C:\\Users\\admin\\OneDrive\\Desktop\\Document_verification\\Aadhar\\Testing\\Fake_Aadhar_28.jpg: Fake\n",
      "C:\\Users\\admin\\OneDrive\\Desktop\\Document_verification\\Aadhar\\Testing\\Fake_Aadhar_29.jpg: Fake\n",
      "C:\\Users\\admin\\OneDrive\\Desktop\\Document_verification\\Aadhar\\Testing\\Fake_Aadhar_30.jpg: Fake\n",
      "C:\\Users\\admin\\OneDrive\\Desktop\\Document_verification\\Aadhar\\Testing\\Fake_Aadhar_31.jpg: Fake\n",
      "C:\\Users\\admin\\OneDrive\\Desktop\\Document_verification\\Aadhar\\Testing\\Fake_Aadhar_58.jpg: Fake\n",
      "C:\\Users\\admin\\OneDrive\\Desktop\\Document_verification\\Aadhar\\Testing\\Fake_Aadhar_59.jpg: Fake\n",
      "C:\\Users\\admin\\OneDrive\\Desktop\\Document_verification\\Aadhar\\Testing\\Real_Aadhar_1.jpg: Real\n",
      "C:\\Users\\admin\\OneDrive\\Desktop\\Document_verification\\Aadhar\\Testing\\Real_Aadhar_2.jpg: Real\n",
      "C:\\Users\\admin\\OneDrive\\Desktop\\Document_verification\\Aadhar\\Testing\\Real_Aadhar_3.jpg: Real\n",
      "C:\\Users\\admin\\OneDrive\\Desktop\\Document_verification\\Aadhar\\Testing\\Real_Aadhar_4.jpg: Real\n"
     ]
    }
   ],
   "source": [
    "test_images_folder = r\"C:\\Users\\admin\\OneDrive\\Desktop\\Document_verification\\Aadhar\\Testing\"  # Update this with the path to your test images folder\n",
    "test_image_paths = [os.path.join(test_images_folder, img) for img in os.listdir(test_images_folder)]\n",
    "test_features = extract_features(test_image_paths)\n",
    "\n",
    "predictions = model.predict(test_features)\n",
    "predicted_labels = [\"Real\" if pred > 0.5 else \"Fake\" for pred in predictions]\n",
    "\n",
    "for image_path, label in zip(test_image_paths, predicted_labels):\n",
    "    print(f\"{image_path}: {label}\")"
   ]
  },
  {
   "cell_type": "markdown",
   "metadata": {},
   "source": [
    "STEP 8 - Deploying the model as .pkl, .h5, .json"
   ]
  },
  {
   "cell_type": "code",
   "execution_count": 19,
   "metadata": {},
   "outputs": [
    {
     "name": "stderr",
     "output_type": "stream",
     "text": [
      "c:\\Users\\admin\\AppData\\Local\\Programs\\Python\\Python311\\Lib\\site-packages\\keras\\src\\engine\\training.py:3000: UserWarning: You are saving your model as an HDF5 file via `model.save()`. This file format is considered legacy. We recommend using instead the native Keras format, e.g. `model.save('my_model.keras')`.\n",
      "  saving_api.save_model(\n"
     ]
    },
    {
     "data": {
      "text/plain": [
       "'C:\\\\Users\\\\admin\\\\OneDrive\\\\Desktop\\\\Document_verification\\\\Aadhar\\\\Model\\\\Models_Trained\\\\model.pkl'"
      ]
     },
     "execution_count": 19,
     "metadata": {},
     "output_type": "execute_result"
    }
   ],
   "source": [
    "import pickle\n",
    "import h5py\n",
    "import os\n",
    "import shutil\n",
    "\n",
    "# Assuming you have trained a model and stored it in the 'model' variable\n",
    "\n",
    "# Save model as HDF5 file\n",
    "h5_filename = 'model.h5'\n",
    "model.save(h5_filename)\n",
    "\n",
    "# Save model as pickle file\n",
    "pickle_filename = 'model.pkl'\n",
    "with open(pickle_filename, 'wb') as f:\n",
    "    pickle.dump(model, f)\n",
    "\n",
    "# Specify the folder path to save the model files\n",
    "folder_path = r'C:\\Users\\admin\\OneDrive\\Desktop\\Document_verification\\Aadhar\\Model\\Models_Trained'\n",
    "\n",
    "# Create the folder if it doesn't exist\n",
    "if not os.path.exists(folder_path):\n",
    "    os.makedirs(folder_path)\n",
    "\n",
    "# Move the saved model files to the folder\n",
    "h5_filepath = os.path.join(folder_path, h5_filename)\n",
    "pickle_filepath = os.path.join(folder_path, pickle_filename)\n",
    "shutil.move(h5_filename, h5_filepath)\n",
    "shutil.move(pickle_filename, pickle_filepath)\n"
   ]
  }
 ],
 "metadata": {
  "kernelspec": {
   "display_name": "Python 3",
   "language": "python",
   "name": "python3"
  },
  "language_info": {
   "codemirror_mode": {
    "name": "ipython",
    "version": 3
   },
   "file_extension": ".py",
   "mimetype": "text/x-python",
   "name": "python",
   "nbconvert_exporter": "python",
   "pygments_lexer": "ipython3",
   "version": "3.11.3"
  },
  "orig_nbformat": 4
 },
 "nbformat": 4,
 "nbformat_minor": 2
}
