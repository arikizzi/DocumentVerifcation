{
 "cells": [
  {
   "cell_type": "markdown",
   "metadata": {},
   "source": [
    "PAN VERIFICATION"
   ]
  },
  {
   "cell_type": "markdown",
   "metadata": {},
   "source": [
    "STEP 1 : Importing all the necessary Librarires for building the Model"
   ]
  },
  {
   "cell_type": "code",
   "execution_count": 1,
   "metadata": {},
   "outputs": [],
   "source": [
    "import os\n",
    "import shutil\n",
    "import random\n",
    "import pickle\n",
    "import numpy as np\n",
    "from PIL import Image\n",
    "from sklearn.model_selection import train_test_split\n",
    "from keras.applications.vgg16 import VGG16\n",
    "from keras.models import Sequential\n",
    "from keras.layers import Dense, Flatten\n",
    "from keras.optimizers import Adam\n",
    "from sklearn.metrics import confusion_matrix, classification_report"
   ]
  },
  {
   "cell_type": "markdown",
   "metadata": {},
   "source": [
    "STEP 2 : Gather a labeled dataset consisting of real and fake Aadhaar card images"
   ]
  },
  {
   "cell_type": "code",
   "execution_count": 2,
   "metadata": {},
   "outputs": [],
   "source": [
    "dataset_path = r\"C:\\Users\\admin\\OneDrive\\Desktop\\Document_verification\\Pan\\Dataset\"\n",
    "real_images_folder = os.path.join(dataset_path, \"Real\")\n",
    "fake_images_folder = os.path.join(dataset_path, \"Fake\")\n"
   ]
  },
  {
   "cell_type": "markdown",
   "metadata": {},
   "source": [
    "STEP 3 : Data Preprocessing: Convert the images to a consistent format and resize them"
   ]
  },
  {
   "cell_type": "code",
   "execution_count": 3,
   "metadata": {},
   "outputs": [],
   "source": [
    "target_size = (224, 224)  # Specify the desired target size for the images\n",
    "\n",
    "def load_and_preprocess_image(image_path, target_size):\n",
    "    image = Image.open(image_path).convert('RGB')\n",
    "    image = image.resize(target_size)\n",
    "    image = np.array(image) / 255.0  # Normalize pixel values to the range of [0, 1]\n",
    "    return image"
   ]
  },
  {
   "cell_type": "markdown",
   "metadata": {},
   "source": [
    "STEP 4 : Splitting the Dataset: Split the dataset into training and validation sets"
   ]
  },
  {
   "cell_type": "code",
   "execution_count": 4,
   "metadata": {},
   "outputs": [],
   "source": [
    "train_real_images, val_real_images = train_test_split(os.listdir(real_images_folder), test_size=0.2, random_state=42)\n",
    "train_fake_images, val_fake_images = train_test_split(os.listdir(fake_images_folder), test_size=0.2, random_state=42)"
   ]
  },
  {
   "cell_type": "markdown",
   "metadata": {},
   "source": [
    "STEP 5 : Feature Extraction"
   ]
  },
  {
   "cell_type": "code",
   "execution_count": 5,
   "metadata": {},
   "outputs": [
    {
     "name": "stdout",
     "output_type": "stream",
     "text": [
      "1/1 [==============================] - 1s 611ms/step\n",
      "1/1 [==============================] - 0s 362ms/step\n",
      "1/1 [==============================] - 0s 340ms/step\n",
      "1/1 [==============================] - 0s 342ms/step\n",
      "1/1 [==============================] - 0s 359ms/step\n",
      "1/1 [==============================] - 0s 435ms/step\n",
      "1/1 [==============================] - 0s 369ms/step\n",
      "1/1 [==============================] - 0s 400ms/step\n",
      "1/1 [==============================] - 0s 338ms/step\n",
      "1/1 [==============================] - 0s 366ms/step\n",
      "1/1 [==============================] - 0s 395ms/step\n",
      "1/1 [==============================] - 0s 339ms/step\n",
      "1/1 [==============================] - 0s 348ms/step\n",
      "1/1 [==============================] - 0s 347ms/step\n",
      "1/1 [==============================] - 0s 345ms/step\n",
      "1/1 [==============================] - 0s 363ms/step\n",
      "1/1 [==============================] - 0s 427ms/step\n",
      "1/1 [==============================] - 0s 338ms/step\n",
      "1/1 [==============================] - 0s 336ms/step\n",
      "1/1 [==============================] - 0s 341ms/step\n",
      "1/1 [==============================] - 0s 339ms/step\n",
      "1/1 [==============================] - 0s 405ms/step\n",
      "1/1 [==============================] - 1s 603ms/step\n",
      "1/1 [==============================] - 0s 383ms/step\n",
      "1/1 [==============================] - 0s 340ms/step\n",
      "1/1 [==============================] - 0s 371ms/step\n",
      "1/1 [==============================] - 0s 366ms/step\n",
      "1/1 [==============================] - 0s 443ms/step\n",
      "1/1 [==============================] - 1s 569ms/step\n",
      "1/1 [==============================] - 0s 364ms/step\n",
      "1/1 [==============================] - 0s 482ms/step\n",
      "1/1 [==============================] - 0s 419ms/step\n",
      "1/1 [==============================] - 0s 360ms/step\n",
      "1/1 [==============================] - 0s 340ms/step\n",
      "1/1 [==============================] - 0s 348ms/step\n",
      "1/1 [==============================] - 0s 368ms/step\n",
      "1/1 [==============================] - 0s 435ms/step\n",
      "1/1 [==============================] - 0s 348ms/step\n",
      "1/1 [==============================] - 0s 356ms/step\n",
      "1/1 [==============================] - 0s 349ms/step\n",
      "1/1 [==============================] - 0s 352ms/step\n",
      "1/1 [==============================] - 0s 354ms/step\n",
      "1/1 [==============================] - 0s 345ms/step\n",
      "1/1 [==============================] - 0s 358ms/step\n",
      "1/1 [==============================] - 0s 376ms/step\n",
      "1/1 [==============================] - 0s 385ms/step\n",
      "1/1 [==============================] - 0s 375ms/step\n",
      "1/1 [==============================] - 0s 335ms/step\n",
      "1/1 [==============================] - 0s 397ms/step\n",
      "1/1 [==============================] - 0s 337ms/step\n",
      "1/1 [==============================] - 0s 384ms/step\n",
      "1/1 [==============================] - 0s 340ms/step\n",
      "1/1 [==============================] - 0s 337ms/step\n",
      "1/1 [==============================] - 0s 359ms/step\n",
      "1/1 [==============================] - 0s 456ms/step\n",
      "1/1 [==============================] - 0s 355ms/step\n",
      "1/1 [==============================] - 0s 358ms/step\n",
      "1/1 [==============================] - 0s 356ms/step\n",
      "1/1 [==============================] - 0s 452ms/step\n",
      "1/1 [==============================] - 0s 453ms/step\n",
      "1/1 [==============================] - 0s 359ms/step\n",
      "1/1 [==============================] - 0s 375ms/step\n",
      "1/1 [==============================] - 0s 387ms/step\n",
      "1/1 [==============================] - 0s 381ms/step\n",
      "1/1 [==============================] - 0s 378ms/step\n",
      "1/1 [==============================] - 0s 392ms/step\n",
      "1/1 [==============================] - 0s 394ms/step\n",
      "1/1 [==============================] - 0s 341ms/step\n",
      "1/1 [==============================] - 0s 387ms/step\n",
      "1/1 [==============================] - 0s 356ms/step\n",
      "1/1 [==============================] - 0s 352ms/step\n",
      "1/1 [==============================] - 0s 423ms/step\n",
      "1/1 [==============================] - 0s 355ms/step\n",
      "1/1 [==============================] - 0s 371ms/step\n",
      "1/1 [==============================] - 0s 366ms/step\n",
      "1/1 [==============================] - 0s 350ms/step\n",
      "1/1 [==============================] - 0s 352ms/step\n",
      "1/1 [==============================] - 0s 345ms/step\n",
      "1/1 [==============================] - 0s 353ms/step\n",
      "1/1 [==============================] - 0s 357ms/step\n",
      "1/1 [==============================] - 0s 353ms/step\n",
      "1/1 [==============================] - 0s 342ms/step\n",
      "1/1 [==============================] - 0s 350ms/step\n",
      "1/1 [==============================] - 0s 346ms/step\n",
      "1/1 [==============================] - 0s 348ms/step\n",
      "1/1 [==============================] - 0s 348ms/step\n",
      "1/1 [==============================] - 0s 392ms/step\n",
      "1/1 [==============================] - 1s 538ms/step\n",
      "1/1 [==============================] - 0s 344ms/step\n",
      "1/1 [==============================] - 0s 345ms/step\n",
      "1/1 [==============================] - 0s 346ms/step\n",
      "1/1 [==============================] - 0s 367ms/step\n",
      "1/1 [==============================] - 0s 337ms/step\n",
      "1/1 [==============================] - 0s 469ms/step\n",
      "1/1 [==============================] - 0s 394ms/step\n",
      "1/1 [==============================] - 0s 363ms/step\n",
      "1/1 [==============================] - 0s 406ms/step\n",
      "1/1 [==============================] - 0s 340ms/step\n",
      "1/1 [==============================] - 0s 341ms/step\n",
      "1/1 [==============================] - 0s 334ms/step\n",
      "1/1 [==============================] - 0s 404ms/step\n",
      "1/1 [==============================] - 0s 402ms/step\n"
     ]
    }
   ],
   "source": [
    "def extract_features(image_paths):\n",
    "    model = VGG16(weights='imagenet', include_top=False, pooling='avg')\n",
    "    features = []\n",
    "    for image_path in image_paths:\n",
    "        image = load_and_preprocess_image(os.path.join(dataset_path, image_path), target_size)\n",
    "        image = np.expand_dims(image, axis=0)  # Add batch dimension\n",
    "        features.append(model.predict(image))\n",
    "    return np.array(features)\n",
    "\n",
    "train_real_features = extract_features([os.path.join(real_images_folder, img) for img in train_real_images])\n",
    "val_real_features = extract_features([os.path.join(real_images_folder, img) for img in val_real_images])\n",
    "train_fake_features = extract_features([os.path.join(fake_images_folder, img) for img in train_fake_images])\n",
    "val_fake_features = extract_features([os.path.join(fake_images_folder, img) for img in val_fake_images])\n",
    "\n",
    "train_features = np.concatenate((train_real_features, train_fake_features))\n",
    "val_features = np.concatenate((val_real_features, val_fake_features))"
   ]
  },
  {
   "cell_type": "markdown",
   "metadata": {},
   "source": [
    "STEP 6 : Model Training"
   ]
  },
  {
   "cell_type": "code",
   "execution_count": 6,
   "metadata": {},
   "outputs": [
    {
     "name": "stdout",
     "output_type": "stream",
     "text": [
      "Epoch 1/50\n",
      "3/3 [==============================] - 4s 206ms/step - loss: 0.7134 - accuracy: 0.4074 - val_loss: 0.6419 - val_accuracy: 0.7143\n",
      "Epoch 2/50\n",
      "3/3 [==============================] - 0s 113ms/step - loss: 0.6192 - accuracy: 0.7284 - val_loss: 0.5996 - val_accuracy: 0.7143\n",
      "Epoch 3/50\n",
      "3/3 [==============================] - 0s 39ms/step - loss: 0.5936 - accuracy: 0.7284 - val_loss: 0.5940 - val_accuracy: 0.7143\n",
      "Epoch 4/50\n",
      "3/3 [==============================] - 0s 31ms/step - loss: 0.5796 - accuracy: 0.7284 - val_loss: 0.5867 - val_accuracy: 0.7143\n",
      "Epoch 5/50\n",
      "3/3 [==============================] - 0s 28ms/step - loss: 0.5739 - accuracy: 0.7284 - val_loss: 0.5741 - val_accuracy: 0.7143\n",
      "Epoch 6/50\n",
      "3/3 [==============================] - 0s 29ms/step - loss: 0.5623 - accuracy: 0.7284 - val_loss: 0.5606 - val_accuracy: 0.7143\n",
      "Epoch 7/50\n",
      "3/3 [==============================] - 0s 30ms/step - loss: 0.5528 - accuracy: 0.7284 - val_loss: 0.5487 - val_accuracy: 0.7143\n",
      "Epoch 8/50\n",
      "3/3 [==============================] - 0s 30ms/step - loss: 0.5344 - accuracy: 0.7284 - val_loss: 0.5345 - val_accuracy: 0.7143\n",
      "Epoch 9/50\n",
      "3/3 [==============================] - 0s 28ms/step - loss: 0.5198 - accuracy: 0.7284 - val_loss: 0.5120 - val_accuracy: 0.7143\n",
      "Epoch 10/50\n",
      "3/3 [==============================] - 0s 28ms/step - loss: 0.4966 - accuracy: 0.7284 - val_loss: 0.4805 - val_accuracy: 0.7143\n",
      "Epoch 11/50\n",
      "3/3 [==============================] - 0s 29ms/step - loss: 0.4670 - accuracy: 0.7284 - val_loss: 0.4437 - val_accuracy: 0.7143\n",
      "Epoch 12/50\n",
      "3/3 [==============================] - 0s 29ms/step - loss: 0.4289 - accuracy: 0.7284 - val_loss: 0.4001 - val_accuracy: 0.7143\n",
      "Epoch 13/50\n",
      "3/3 [==============================] - 0s 32ms/step - loss: 0.3876 - accuracy: 0.7284 - val_loss: 0.3453 - val_accuracy: 0.7143\n",
      "Epoch 14/50\n",
      "3/3 [==============================] - 0s 34ms/step - loss: 0.3295 - accuracy: 0.8272 - val_loss: 0.2802 - val_accuracy: 0.9048\n",
      "Epoch 15/50\n",
      "3/3 [==============================] - 0s 48ms/step - loss: 0.2706 - accuracy: 0.9259 - val_loss: 0.2156 - val_accuracy: 0.9524\n",
      "Epoch 16/50\n",
      "3/3 [==============================] - 0s 88ms/step - loss: 0.2078 - accuracy: 0.9630 - val_loss: 0.1551 - val_accuracy: 1.0000\n",
      "Epoch 17/50\n",
      "3/3 [==============================] - 0s 26ms/step - loss: 0.1577 - accuracy: 0.9753 - val_loss: 0.1023 - val_accuracy: 1.0000\n",
      "Epoch 18/50\n",
      "3/3 [==============================] - 0s 27ms/step - loss: 0.1070 - accuracy: 0.9877 - val_loss: 0.0640 - val_accuracy: 1.0000\n",
      "Epoch 19/50\n",
      "3/3 [==============================] - 0s 28ms/step - loss: 0.0677 - accuracy: 0.9877 - val_loss: 0.0461 - val_accuracy: 1.0000\n",
      "Epoch 20/50\n",
      "3/3 [==============================] - 0s 31ms/step - loss: 0.0483 - accuracy: 1.0000 - val_loss: 0.0230 - val_accuracy: 1.0000\n",
      "Epoch 21/50\n",
      "3/3 [==============================] - 0s 29ms/step - loss: 0.0396 - accuracy: 0.9877 - val_loss: 0.0133 - val_accuracy: 1.0000\n",
      "Epoch 22/50\n",
      "3/3 [==============================] - 0s 26ms/step - loss: 0.0192 - accuracy: 1.0000 - val_loss: 0.0377 - val_accuracy: 1.0000\n",
      "Epoch 23/50\n",
      "3/3 [==============================] - 0s 25ms/step - loss: 0.0203 - accuracy: 1.0000 - val_loss: 0.0053 - val_accuracy: 1.0000\n",
      "Epoch 24/50\n",
      "3/3 [==============================] - 0s 28ms/step - loss: 0.0097 - accuracy: 1.0000 - val_loss: 0.0083 - val_accuracy: 1.0000\n",
      "Epoch 25/50\n",
      "3/3 [==============================] - 0s 27ms/step - loss: 0.0170 - accuracy: 1.0000 - val_loss: 0.0041 - val_accuracy: 1.0000\n",
      "Epoch 26/50\n",
      "3/3 [==============================] - 0s 26ms/step - loss: 0.0039 - accuracy: 1.0000 - val_loss: 0.0227 - val_accuracy: 1.0000\n",
      "Epoch 27/50\n",
      "3/3 [==============================] - 0s 28ms/step - loss: 0.0096 - accuracy: 1.0000 - val_loss: 0.0073 - val_accuracy: 1.0000\n",
      "Epoch 28/50\n",
      "3/3 [==============================] - 0s 26ms/step - loss: 0.0025 - accuracy: 1.0000 - val_loss: 0.0014 - val_accuracy: 1.0000\n",
      "Epoch 29/50\n",
      "3/3 [==============================] - 0s 28ms/step - loss: 0.0112 - accuracy: 1.0000 - val_loss: 0.0010 - val_accuracy: 1.0000\n",
      "Epoch 30/50\n",
      "3/3 [==============================] - 0s 29ms/step - loss: 0.0020 - accuracy: 1.0000 - val_loss: 0.0148 - val_accuracy: 1.0000\n",
      "Epoch 31/50\n",
      "3/3 [==============================] - 0s 28ms/step - loss: 0.0057 - accuracy: 1.0000 - val_loss: 0.0442 - val_accuracy: 0.9524\n",
      "Epoch 32/50\n",
      "3/3 [==============================] - 0s 28ms/step - loss: 0.0075 - accuracy: 1.0000 - val_loss: 0.0035 - val_accuracy: 1.0000\n",
      "Epoch 33/50\n",
      "3/3 [==============================] - 0s 28ms/step - loss: 6.0696e-04 - accuracy: 1.0000 - val_loss: 4.7832e-04 - val_accuracy: 1.0000\n",
      "Epoch 34/50\n",
      "3/3 [==============================] - 0s 27ms/step - loss: 7.4158e-04 - accuracy: 1.0000 - val_loss: 7.6468e-04 - val_accuracy: 1.0000\n",
      "Epoch 35/50\n",
      "3/3 [==============================] - 0s 64ms/step - loss: 0.0022 - accuracy: 1.0000 - val_loss: 9.5140e-04 - val_accuracy: 1.0000\n",
      "Epoch 36/50\n",
      "3/3 [==============================] - 0s 25ms/step - loss: 0.0025 - accuracy: 1.0000 - val_loss: 5.0874e-04 - val_accuracy: 1.0000\n",
      "Epoch 37/50\n",
      "3/3 [==============================] - 0s 24ms/step - loss: 8.1381e-04 - accuracy: 1.0000 - val_loss: 3.2140e-04 - val_accuracy: 1.0000\n",
      "Epoch 38/50\n",
      "3/3 [==============================] - 0s 27ms/step - loss: 3.2488e-04 - accuracy: 1.0000 - val_loss: 4.1198e-04 - val_accuracy: 1.0000\n",
      "Epoch 39/50\n",
      "3/3 [==============================] - 0s 28ms/step - loss: 2.4015e-04 - accuracy: 1.0000 - val_loss: 7.1398e-04 - val_accuracy: 1.0000\n",
      "Epoch 40/50\n",
      "3/3 [==============================] - 0s 25ms/step - loss: 2.5253e-04 - accuracy: 1.0000 - val_loss: 0.0012 - val_accuracy: 1.0000\n",
      "Epoch 41/50\n",
      "3/3 [==============================] - 0s 31ms/step - loss: 2.9340e-04 - accuracy: 1.0000 - val_loss: 0.0016 - val_accuracy: 1.0000\n",
      "Epoch 42/50\n",
      "3/3 [==============================] - 0s 32ms/step - loss: 3.3353e-04 - accuracy: 1.0000 - val_loss: 0.0019 - val_accuracy: 1.0000\n",
      "Epoch 43/50\n",
      "3/3 [==============================] - 0s 31ms/step - loss: 3.4149e-04 - accuracy: 1.0000 - val_loss: 0.0018 - val_accuracy: 1.0000\n",
      "Epoch 44/50\n",
      "3/3 [==============================] - 0s 29ms/step - loss: 3.1775e-04 - accuracy: 1.0000 - val_loss: 0.0014 - val_accuracy: 1.0000\n",
      "Epoch 45/50\n",
      "3/3 [==============================] - 0s 30ms/step - loss: 2.6905e-04 - accuracy: 1.0000 - val_loss: 0.0011 - val_accuracy: 1.0000\n",
      "Epoch 46/50\n",
      "3/3 [==============================] - 0s 34ms/step - loss: 2.2118e-04 - accuracy: 1.0000 - val_loss: 8.6441e-04 - val_accuracy: 1.0000\n",
      "Epoch 47/50\n",
      "3/3 [==============================] - 0s 29ms/step - loss: 1.9894e-04 - accuracy: 1.0000 - val_loss: 6.5876e-04 - val_accuracy: 1.0000\n",
      "Epoch 48/50\n",
      "3/3 [==============================] - 0s 33ms/step - loss: 1.7759e-04 - accuracy: 1.0000 - val_loss: 5.2239e-04 - val_accuracy: 1.0000\n",
      "Epoch 49/50\n",
      "3/3 [==============================] - 0s 33ms/step - loss: 1.5698e-04 - accuracy: 1.0000 - val_loss: 4.5303e-04 - val_accuracy: 1.0000\n",
      "Epoch 50/50\n",
      "3/3 [==============================] - 0s 35ms/step - loss: 1.4642e-04 - accuracy: 1.0000 - val_loss: 4.0364e-04 - val_accuracy: 1.0000\n"
     ]
    },
    {
     "data": {
      "text/plain": [
       "<keras.src.callbacks.History at 0x22800a7d0d0>"
      ]
     },
     "execution_count": 6,
     "metadata": {},
     "output_type": "execute_result"
    }
   ],
   "source": [
    "train_labels = np.array([1] * len(train_real_features) + [0] * len(train_fake_features))\n",
    "val_labels = np.array([1] * len(val_real_features) + [0] * len(val_fake_features))\n",
    "\n",
    "model = Sequential()\n",
    "model.add(Flatten(input_shape=train_features.shape[1:]))\n",
    "model.add(Dense(64, activation='relu'))\n",
    "model.add(Dense(64, activation='relu'))\n",
    "model.add(Dense(64, activation='relu'))\n",
    "model.add(Dense(64, activation='relu'))\n",
    "model.add(Dense(64, activation='relu'))\n",
    "model.add(Dense(1, activation='sigmoid'))\n",
    "\n",
    "model.compile(optimizer=Adam(), loss='binary_crossentropy', metrics=['accuracy'])\n",
    "model.fit(train_features, train_labels, batch_size=32, epochs=50, validation_data=(val_features, val_labels))"
   ]
  },
  {
   "cell_type": "code",
   "execution_count": 7,
   "metadata": {},
   "outputs": [
    {
     "name": "stdout",
     "output_type": "stream",
     "text": [
      "1/1 [==============================] - 0s 133ms/step\n",
      "Test Confusion Matrix:\n",
      "[[15  0]\n",
      " [ 0  6]]\n",
      "Test Accuracy: 1.0\n"
     ]
    }
   ],
   "source": [
    "import seaborn as sns\n",
    "import matplotlib.pyplot as plt\n",
    "test_labels = np.array([1] * len(val_real_features) + [0] * len(val_fake_features))\n",
    "\n",
    "test_predictions = model.predict(val_features)\n",
    "test_predicted_labels = np.where(test_predictions > 0.5, 1, 0)\n",
    "\n",
    "test_cm = confusion_matrix(test_labels, test_predicted_labels)\n",
    "test_accuracy = np.sum(np.diag(test_cm)) / np.sum(test_cm)\n",
    "\n",
    "print(\"Test Confusion Matrix:\")\n",
    "print(test_cm)\n",
    "print(\"Test Accuracy:\", test_accuracy)"
   ]
  },
  {
   "cell_type": "markdown",
   "metadata": {},
   "source": [
    "Plot the confusion matrix"
   ]
  },
  {
   "cell_type": "code",
   "execution_count": 8,
   "metadata": {},
   "outputs": [
    {
     "data": {
      "image/png": "[encoded data removed]",
      "text/plain": [
       "<Figure size 800x600 with 1 Axes>"
      ]
     },
     "metadata": {},
     "output_type": "display_data"
    }
   ],
   "source": [
    "plt.figure(figsize=(8, 6))\n",
    "sns.heatmap(test_cm, annot=True, fmt=\"d\", cmap=\"Blues\", cbar=False,\n",
    "            xticklabels=[\"Fake\", \"Real\"], yticklabels=[\"Fake\", \"Real\"])\n",
    "plt.xlabel(\"Predicted\")\n",
    "plt.ylabel(\"True\")\n",
    "plt.title(\"Confusion Matrix\")\n",
    "plt.show()"
   ]
  },
  {
   "cell_type": "markdown",
   "metadata": {},
   "source": [
    "STEP 7 - Model Evaluation"
   ]
  },
  {
   "cell_type": "code",
   "execution_count": 10,
   "metadata": {},
   "outputs": [
    {
     "name": "stdout",
     "output_type": "stream",
     "text": [
      "1/1 [==============================] - 1s 710ms/step\n",
      "1/1 [==============================] - 0s 435ms/step\n",
      "1/1 [==============================] - 0s 378ms/step\n",
      "1/1 [==============================] - 0s 399ms/step\n",
      "1/1 [==============================] - 0s 345ms/step\n",
      "1/1 [==============================] - 0s 371ms/step\n",
      "1/1 [==============================] - 0s 341ms/step\n",
      "1/1 [==============================] - 0s 338ms/step\n",
      "1/1 [==============================] - 0s 341ms/step\n",
      "1/1 [==============================] - 0s 342ms/step\n",
      "1/1 [==============================] - 0s 29ms/step\n",
      "C:\\Users\\admin\\OneDrive\\Desktop\\Document_verification\\Pan\\Testing\\Fake_Pan_18.jpg: Fake\n",
      "C:\\Users\\admin\\OneDrive\\Desktop\\Document_verification\\Pan\\Testing\\Fake_Pan_19.jpg: Fake\n",
      "C:\\Users\\admin\\OneDrive\\Desktop\\Document_verification\\Pan\\Testing\\Fake_Pan_20.jpg: Fake\n",
      "C:\\Users\\admin\\OneDrive\\Desktop\\Document_verification\\Pan\\Testing\\Fake_Pan_21.jpg: Fake\n",
      "C:\\Users\\admin\\OneDrive\\Desktop\\Document_verification\\Pan\\Testing\\Fake_Pan_22.jpg: Fake\n",
      "C:\\Users\\admin\\OneDrive\\Desktop\\Document_verification\\Pan\\Testing\\Fake_Pan_23.jpg: Fake\n",
      "C:\\Users\\admin\\OneDrive\\Desktop\\Document_verification\\Pan\\Testing\\Real_Pan_1.jpg: Real\n",
      "C:\\Users\\admin\\OneDrive\\Desktop\\Document_verification\\Pan\\Testing\\Real_Pan_2.jpg: Real\n",
      "C:\\Users\\admin\\OneDrive\\Desktop\\Document_verification\\Pan\\Testing\\Real_Pan_3.jpg: Real\n",
      "C:\\Users\\admin\\OneDrive\\Desktop\\Document_verification\\Pan\\Testing\\Real_Pan_4.jpg: Real\n"
     ]
    }
   ],
   "source": [
    "test_images_folder = r\"C:\\Users\\admin\\OneDrive\\Desktop\\Document_verification\\Pan\\Testing\"  # Update this with the path to your test images folder\n",
    "test_image_paths = [os.path.join(test_images_folder, img) for img in os.listdir(test_images_folder)]\n",
    "test_features = extract_features(test_image_paths)\n",
    "\n",
    "predictions = model.predict(test_features)\n",
    "predicted_labels = [\"Real\" if pred > 0.5 else \"Fake\" for pred in predictions]\n",
    "\n",
    "for image_path, label in zip(test_image_paths, predicted_labels):\n",
    "    print(f\"{image_path}: {label}\")"
   ]
  },
  {
   "cell_type": "markdown",
   "metadata": {},
   "source": [
    "STEP 8 - Deploying the model as .pkl, .h5, .json"
   ]
  },
  {
   "cell_type": "code",
   "execution_count": 12,
   "metadata": {},
   "outputs": [
    {
     "data": {
      "text/plain": [
       "'C:\\\\Users\\\\admin\\\\OneDrive\\\\Desktop\\\\Document_verification\\\\Pan\\\\Training\\\\Models_Trained\\\\model.pkl'"
      ]
     },
     "execution_count": 12,
     "metadata": {},
     "output_type": "execute_result"
    }
   ],
   "source": [
    "import pickle\n",
    "import h5py\n",
    "import os\n",
    "import shutil\n",
    "\n",
    "# Assuming you have trained a model and stored it in the 'model' variable\n",
    "\n",
    "# Save model as HDF5 file\n",
    "h5_filename = 'model.h5'\n",
    "model.save(h5_filename)\n",
    "\n",
    "# Save model as pickle file\n",
    "pickle_filename = 'model.pkl'\n",
    "with open(pickle_filename, 'wb') as f:\n",
    "    pickle.dump(model, f)\n",
    "\n",
    "# Specify the folder path to save the model files\n",
    "folder_path = r'C:\\Users\\admin\\OneDrive\\Desktop\\Document_verification\\Pan\\Training\\Models_Trained'\n",
    "\n",
    "# Create the folder if it doesn't exist\n",
    "if not os.path.exists(folder_path):\n",
    "    os.makedirs(folder_path)\n",
    "\n",
    "# Move the saved model files to the folder\n",
    "h5_filepath = os.path.join(folder_path, h5_filename)\n",
    "pickle_filepath = os.path.join(folder_path, pickle_filename)\n",
    "shutil.move(h5_filename, h5_filepath)\n",
    "shutil.move(pickle_filename, pickle_filepath)\n"
   ]
  }
 ],
 "metadata": {
  "kernelspec": {
   "display_name": "Python 3",
   "language": "python",
   "name": "python3"
  },
  "language_info": {
   "codemirror_mode": {
    "name": "ipython",
    "version": 3
   },
   "file_extension": ".py",
   "mimetype": "text/x-python",
   "name": "python",
   "nbconvert_exporter": "python",
   "pygments_lexer": "ipython3",
   "version": "3.11.3"
  },
  "orig_nbformat": 4
 },
 "nbformat": 4,
 "nbformat_minor": 2
}
